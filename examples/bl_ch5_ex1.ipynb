{
 "cells": [
  {
   "cell_type": "markdown",
   "metadata": {},
   "source": [
    "# Start \n",
    "\n",
    "Below is an example of what a user would have to create in order to get the LShaped.jl package to run their own custom scenario-based model. I use, for simplicity, an example out of Introduction to Stochastic Programming (2nd). This comes from Ch. 5, where the L-Shaped Method is introduced."
   ]
  },
  {
   "cell_type": "code",
   "execution_count": null,
   "metadata": {},
   "outputs": [],
   "source": [
    "using Pkg\n",
    "Pkg.activate(\"..\")"
   ]
  },
  {
   "cell_type": "code",
   "execution_count": null,
   "metadata": {},
   "outputs": [],
   "source": [
    "using JuMP\n",
    "using Gurobi\n",
    "using CSV\n",
    "using DataFrames"
   ]
  },
  {
   "cell_type": "code",
   "execution_count": null,
   "metadata": {},
   "outputs": [],
   "source": [
    "using LShaped"
   ]
  },
  {
   "cell_type": "code",
   "execution_count": null,
   "metadata": {},
   "outputs": [],
   "source": [
    "#=names = [\"n1\",\"n2\",\"n3\"]\n",
    "\n",
    "df = DataFrame()\n",
    "\n",
    "nvars = 3\n",
    "\n",
    "for i = 1:nvars\n",
    "    insertcols!(df, i, Symbol(names[i])=>Float64[])\n",
    "end\n",
    "\n",
    "vals = [1,2,3]\n",
    "\n",
    "# this is dangerous and requires a specific ordering of the values. very dangerous :O\n",
    "push!(df, vals)=#"
   ]
  },
  {
   "cell_type": "code",
   "execution_count": null,
   "metadata": {},
   "outputs": [],
   "source": [
    "#CSV.write(\"./test.csv\", df)"
   ]
  },
  {
   "cell_type": "code",
   "execution_count": null,
   "metadata": {},
   "outputs": [],
   "source": [
    "#=a = [4,5,6];\n",
    "\n",
    "sa = string(a)\n",
    "n = length(string(a))\n",
    "\n",
    "sa = sa[2:n-1]\n",
    "open(\"./test.csv\", \"a\") do io\n",
    "        write(io, \"$(sa) \\n\")\n",
    "end\n",
    "=#"
   ]
  },
  {
   "cell_type": "code",
   "execution_count": null,
   "metadata": {},
   "outputs": [],
   "source": [
    "#dfload = DataFrame(CSV.File(\"./test.csv\"))"
   ]
  },
  {
   "cell_type": "code",
   "execution_count": null,
   "metadata": {},
   "outputs": [],
   "source": [
    "#a = [4,5,6];\n",
    "\n",
    "#CSV.write(\"./test.csv\", a; append=true)"
   ]
  },
  {
   "cell_type": "markdown",
   "metadata": {},
   "source": [
    "### Create subproblem generating function (dependent on scenario id)"
   ]
  },
  {
   "cell_type": "code",
   "execution_count": null,
   "metadata": {},
   "outputs": [],
   "source": [
    "# implementation of Birge, Louveax Ch. 5 Ex 1 Second Stage\n",
    "\n",
    "function subproblem_constructor(sid)\n",
    "    \n",
    "    q1 = [-24, -28]\n",
    "    q2 = [-28, -32]\n",
    "    d1 = [500, 300]\n",
    "    d2 = [100, 300]\n",
    "    \n",
    "    model = Model(with_optimizer(Gurobi.Optimizer; OutputFlag=0))\n",
    "    \n",
    "    @variable(model, x1 )# >= 40.0)\n",
    "    @variable(model, x2 )# >= 20.0)\n",
    "    @variable(model, y1[sid] >= 0)\n",
    "    @variable(model, y2[sid] >= 0)\n",
    "    \n",
    "    @objective(model, Min, 100*x1 + 150*x2 + q1[sid]*y1[sid] + q2[sid]*y2[sid])\n",
    "    \n",
    "   # @constraint(model, x1 + x2 <= 120)\n",
    "    \n",
    "    @constraint(model, 6*y1[sid] + 10*y2[sid] <= 60*x1)\n",
    "    @constraint(model, 8*y1[sid] + 5*y2[sid] <= 80*x2)\n",
    "    \n",
    "    @constraint(model, y1[sid] <= d1[sid])\n",
    "    @constraint(model, y2[sid] <= d2[sid])\n",
    "    \n",
    "    return model\n",
    "    \n",
    "end\n"
   ]
  },
  {
   "cell_type": "markdown",
   "metadata": {},
   "source": [
    "### Create variable dictionary. Key 1 maps to stage 1 variables. Key 2 maps to stage 2 variables.\n",
    "\n",
    "TODO: have it construct this inside of the package (e.g. only give instructions to do it)"
   ]
  },
  {
   "cell_type": "code",
   "execution_count": null,
   "metadata": {},
   "outputs": [],
   "source": [
    "v_dict = Dict()\n",
    "\n",
    "v_dict[1] = [(\"x1\", 40, Inf, 40), (\"x2\", 20, Inf, 20)]\n",
    "v_dict[2] = [\"y1\", \"y2\"]"
   ]
  },
  {
   "cell_type": "markdown",
   "metadata": {},
   "source": [
    "## create first stage problem"
   ]
  },
  {
   "cell_type": "code",
   "execution_count": null,
   "metadata": {},
   "outputs": [],
   "source": [
    "function create_first_stage()\n",
    "  \n",
    "    fs = Model(with_optimizer(Gurobi.Optimizer, OutputFlag=0));\n",
    "    \n",
    "    @variable(fs, x1 >= 40)\n",
    "    @variable(fs, x2 >= 20)\n",
    "    \n",
    "    @objective(fs, Min, 100*x1 + 150*x2)\n",
    "    \n",
    "    @constraint(fs, x1 + x2 <= 120)\n",
    "    \n",
    "    return fs\n",
    "    \n",
    "end\n"
   ]
  },
  {
   "cell_type": "markdown",
   "metadata": {},
   "source": [
    "### Run algorithm"
   ]
  },
  {
   "cell_type": "code",
   "execution_count": null,
   "metadata": {},
   "outputs": [],
   "source": [
    "xn, firststage, fs = LShaped.L_Shaped_Algorithm(subproblem_constructor, \n",
    "                                        v_dict, 2, create_first_stage, 1e-6, 10, [0.4, 0.6]; store=\"./bl_data/\");"
   ]
  },
  {
   "cell_type": "code",
   "execution_count": null,
   "metadata": {},
   "outputs": [],
   "source": [
    "rm(\"bl_data\",recursive=true)"
   ]
  },
  {
   "cell_type": "code",
   "execution_count": null,
   "metadata": {},
   "outputs": [],
   "source": []
  }
 ],
 "metadata": {
  "kernelspec": {
   "display_name": "Julia 1.6.1",
   "language": "julia",
   "name": "julia-1.6"
  },
  "language_info": {
   "file_extension": ".jl",
   "mimetype": "application/julia",
   "name": "julia",
   "version": "1.6.1"
  }
 },
 "nbformat": 4,
 "nbformat_minor": 2
}
