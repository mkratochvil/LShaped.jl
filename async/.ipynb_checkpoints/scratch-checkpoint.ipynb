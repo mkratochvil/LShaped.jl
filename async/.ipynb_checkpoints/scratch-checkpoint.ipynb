{
 "cells": [
  {
   "cell_type": "code",
   "execution_count": 11,
   "metadata": {},
   "outputs": [
    {
     "data": {
      "text/plain": [
       "\"bl2\""
      ]
     },
     "execution_count": 11,
     "metadata": {},
     "output_type": "execute_result"
    }
   ],
   "source": [
    "#todo: convergence check once in .jl file mode\n",
    "\n",
    "#todo: change this to the arrayid env variable in cluster\n",
    "arrayid = 1\n",
    "\n",
    "using Pkg\n",
    "Pkg.activate(\"..\")\n",
    "\n",
    "using JuMP\n",
    "using Gurobi\n",
    "using DataFrames\n",
    "using CSV\n",
    "\n",
    "using LShaped\n",
    "\n",
    "#this would be an external variable\n",
    "infoloc = \"./info.csv\"\n",
    "\n",
    "#load in info\n",
    "info = CSV.File(infoloc) |> Dict\n",
    "\n",
    "pathloc = info[\"dir\"]\n",
    "\n",
    "dataloc = string(pathloc, \"data/\")\n",
    "\n",
    "ssmodelloc = string(pathloc,info[\"ssscript\"])\n",
    "\n",
    "#to load in firststage model\n",
    "include(ssmodelloc)\n",
    "\n",
    "fsfuncname = info[\"fsmodel\"]\n",
    "ssfuncname = info[\"ssmodel\"]"
   ]
  },
  {
   "cell_type": "code",
   "execution_count": 12,
   "metadata": {},
   "outputs": [
    {
     "name": "stdout",
     "output_type": "stream",
     "text": [
      "Academic license - for non-commercial use only - expires 2022-08-19\r\n"
     ]
    },
    {
     "data": {
      "text/plain": [
       "A JuMP Model\n",
       "Minimization problem with:\n",
       "Variables: 2\n",
       "Objective function type: AffExpr\n",
       "`AffExpr`-in-`MathOptInterface.LessThan{Float64}`: 1 constraint\n",
       "`VariableRef`-in-`MathOptInterface.GreaterThan{Float64}`: 2 constraints\n",
       "Model mode: AUTOMATIC\n",
       "CachingOptimizer state: EMPTY_OPTIMIZER\n",
       "Solver name: Gurobi\n",
       "Names registered in the model: x1, x2"
      ]
     },
     "execution_count": 12,
     "metadata": {},
     "output_type": "execute_result"
    }
   ],
   "source": [
    "# build first stage model\n",
    "\n",
    "model1 = getfield(Main,Symbol(fsfuncname))()"
   ]
  },
  {
   "cell_type": "code",
   "execution_count": 13,
   "metadata": {},
   "outputs": [
    {
     "data": {
      "text/plain": [
       "Dict{Int64, Array{Any, N} where N} with 2 entries:\n",
       "  2 => [\"y1\", \"y2\"]\n",
       "  1 => [(\"x1\", 40, Inf, 40), (\"x2\", 20, Inf, 20)]"
      ]
     },
     "execution_count": 13,
     "metadata": {},
     "output_type": "execute_result"
    }
   ],
   "source": [
    "vardict = getfield(Main,Symbol(info[\"vardict\"]))"
   ]
  },
  {
   "cell_type": "code",
   "execution_count": 14,
   "metadata": {},
   "outputs": [
    {
     "data": {
      "text/plain": [
       "2"
      ]
     },
     "execution_count": 14,
     "metadata": {},
     "output_type": "execute_result"
    }
   ],
   "source": [
    "parse(Int64,info[\"nsubs\"])"
   ]
  },
  {
   "cell_type": "code",
   "execution_count": 15,
   "metadata": {},
   "outputs": [
    {
     "name": "stdout",
     "output_type": "stream",
     "text": [
      "Academic license - for non-commercial use only - expires 2022-08-19\r\n",
      "computing h for subproblem 1...\n",
      "Initializing subproblem 1...\n",
      "...making stage_name_idx...\n",
      "...making variable_info...\n",
      "Creating subprob[1] struct...\n"
     ]
    },
    {
     "data": {
      "text/plain": [
       "LShaped.SubproblemsNew(1, A JuMP Model\n",
       "Minimization problem with:\n",
       "Variables: 4\n",
       "Objective function type: AffExpr\n",
       "`AffExpr`-in-`MathOptInterface.LessThan{Float64}`: 4 constraints\n",
       "`VariableRef`-in-`MathOptInterface.GreaterThan{Float64}`: 2 constraints\n",
       "Model mode: AUTOMATIC\n",
       "CachingOptimizer state: EMPTY_OPTIMIZER\n",
       "Solver name: Gurobi\n",
       "Names registered in the model: x1, x2, y1, y2, 0.5, Dict{Int64, LShaped.LocalVariableInfo}(2 => LShaped.LocalVariableInfo(2, \"x2\", nothing, 0.0, nothing), 1 => LShaped.LocalVariableInfo(1, \"x1\", nothing, 0.0, nothing)), Dict{Int64, ConstraintRef}(4 => y2[1] <= 100.0, 2 => -80 x2 + 8 y1[1] + 5 y2[1] <= 0.0, 3 => y1[1] <= 500.0, 1 => -60 x1 + 6 y1[1] + 10 y2[1] <= 0.0), [0.0, 0.0, 500.0, 100.0], nothing, nothing, Dict(\"x1\" => 1, \"x2\" => 2), nothing)"
      ]
     },
     "execution_count": 15,
     "metadata": {},
     "output_type": "execute_result"
    }
   ],
   "source": [
    "#remember there would be an environment\n",
    "arrayid = 1\n",
    "\n",
    "nsubs = parse(Int64,info[\"nsubs\"])\n",
    "\n",
    "model2 = getfield(Main,Symbol(info[\"ssmodel\"]))(arrayid);\n",
    "\n",
    "idxtocon = LShaped.IdxToCon(model2)\n",
    "\n",
    "println(\"computing h for subproblem $(arrayid)...\")\n",
    "h = LShaped.compute_h_new(model2, idxtocon)\n",
    "\n",
    "println(\"Initializing subproblem $(arrayid)...\")\n",
    "model2, varstructs, vnametoidx = LShaped.initialize(model2, vardict)\n",
    "\n",
    "println(\"Creating subprob[$(arrayid)] struct...\")\n",
    "subprob = LShaped.SubproblemsNew(arrayid, model2, 1/nsubs, varstructs, idxtocon, h, \n",
    "        nothing, nothing, vnametoidx, nothing)"
   ]
  },
  {
   "cell_type": "code",
   "execution_count": 16,
   "metadata": {},
   "outputs": [],
   "source": [
    "firststagevars = Dict()\n",
    "\n",
    "for index in 1:length(vardict[1])\n",
    "    var = vardict[1][index]\n",
    "    firststagevars[var[1]] = LShaped.FirstStageVariableInfo(var[1], index, var[4], nothing, var[2], var[3])\n",
    "end\n",
    "\n",
    "#empty dict temporary until I can figure out how to store things.\n",
    "subprobs = Dict([(arrayid, subprob)])\n",
    "\n",
    "firststage = LShaped.FirstStageInfo(firststagevars, subprobs, dataloc);"
   ]
  },
  {
   "cell_type": "code",
   "execution_count": 17,
   "metadata": {},
   "outputs": [
    {
     "data": {
      "text/plain": [
       "2-element Vector{Float64}:\n",
       " 40.0\n",
       " 20.0"
      ]
     },
     "execution_count": 17,
     "metadata": {},
     "output_type": "execute_result"
    }
   ],
   "source": [
    "# make dict from var to value\n",
    "\n",
    "pathx = string(dataloc, \"x.csv\")\n",
    "x = DataFrame(CSV.File(pathx))\n",
    "xvars = String.(names(x))\n",
    "curit = size(x,1)\n",
    "xvals = collect(x[curit,:])\n"
   ]
  },
  {
   "cell_type": "code",
   "execution_count": 18,
   "metadata": {},
   "outputs": [],
   "source": [
    "xpathdict = Dict()\n",
    "\n",
    "for i = 1:length(xvars)\n",
    "    xpathdict[xvars[i]] = xvals[i]\n",
    "end"
   ]
  },
  {
   "cell_type": "code",
   "execution_count": 19,
   "metadata": {},
   "outputs": [],
   "source": [
    "#update_second_value equiv\n",
    "for var in keys(xpathdict)\n",
    "    sub = firststage.subproblems[arrayid]\n",
    "    vind = sub.vnametoind[var]\n",
    "    value = xpathdict[var]\n",
    "    sub.variableinfo[vind].value = value\n",
    "end"
   ]
  },
  {
   "cell_type": "code",
   "execution_count": 20,
   "metadata": {},
   "outputs": [
    {
     "name": "stdout",
     "output_type": "stream",
     "text": [
      "...Solving subproblem: 1...\n"
     ]
    }
   ],
   "source": [
    "LShaped.solve_sub_and_update!(firststage.subproblems[arrayid])"
   ]
  },
  {
   "cell_type": "code",
   "execution_count": 26,
   "metadata": {},
   "outputs": [
    {
     "name": "stdout",
     "output_type": "stream",
     "text": [
      "./bl/data/\n",
      "Dict{Int64, LShaped.LocalVariableInfo}(2 => LShaped.LocalVariableInfo(2, \"x2\", nothing, 20.0, -90.0), 1 => LShaped.LocalVariableInfo(1, \"x1\", nothing, 40.0, 100.0))\n"
     ]
    }
   ],
   "source": [
    "if size(x,1) == 1\n",
    "    LShaped.setup_scen_path!(dataloc, arrayid)\n",
    "\n",
    "    LShaped.update_second_index!(firststage)\n",
    "    LShaped.setup_2nd_paths!(dataloc, firststage.subproblems[arrayid])\n",
    "end\n"
   ]
  },
  {
   "cell_type": "code",
   "execution_count": 28,
   "metadata": {},
   "outputs": [],
   "source": [
    "subproblem = firststage.subproblems[arrayid]\n",
    "LShaped.adjust_h_new!(subproblem) \n",
    "LShaped.compute_Ek_new!(subproblem)\n",
    "LShaped.compute_ek_new!(subproblem)\n",
    "    \n",
    "LShaped.store_Ek_sub!(subproblem, dataloc)\n",
    "LShaped.store_ek_sub!(subproblem, dataloc)\n"
   ]
  },
  {
   "cell_type": "code",
   "execution_count": null,
   "metadata": {},
   "outputs": [],
   "source": []
  }
 ],
 "metadata": {
  "kernelspec": {
   "display_name": "Julia 1.6.1",
   "language": "julia",
   "name": "julia-1.6"
  },
  "language_info": {
   "file_extension": ".jl",
   "mimetype": "application/julia",
   "name": "julia",
   "version": "1.6.1"
  }
 },
 "nbformat": 4,
 "nbformat_minor": 2
}
